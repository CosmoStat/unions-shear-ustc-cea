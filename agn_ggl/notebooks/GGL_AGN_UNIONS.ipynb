{
 "cells": [
  {
   "cell_type": "markdown",
   "metadata": {},
   "source": [
    "# GGL of UNIONS galaxies by AGNs\n",
    "\n",
    "This notebook performs first measurements of galaxy-galaxy lensing between SDSS AGN and UNIONS 3500 deg^2 catalogs."
   ]
  },
  {
   "cell_type": "code",
   "execution_count": 1,
   "metadata": {},
   "outputs": [],
   "source": [
    "%matplotlib inline"
   ]
  },
  {
   "cell_type": "code",
   "execution_count": 4,
   "metadata": {},
   "outputs": [],
   "source": [
    "import os\n",
    "import numpy as np\n",
    "import matplotlib.pyplot as plt\n",
    "from astropy.io import fits\n",
    "from astropy.io import ascii"
   ]
  },
  {
   "cell_type": "code",
   "execution_count": 3,
   "metadata": {},
   "outputs": [],
   "source": [
    "import treecorr"
   ]
  },
  {
   "cell_type": "markdown",
   "metadata": {},
   "source": [
    "## Variables"
   ]
  },
  {
   "cell_type": "markdown",
   "metadata": {},
   "source": [
    "### AGN data"
   ]
  },
  {
   "cell_type": "code",
   "execution_count": 5,
   "metadata": {},
   "outputs": [],
   "source": [
    "# Path to data\n",
    "path_to_agn_data = '../data'\n",
    "\n",
    "# AGN catalogue name\n",
    "agn_cat_name = 'SDSS_SMBH_202206.txt'\n",
    "\n",
    "# Columns in data\n",
    "# ra, dec in deg\n",
    "# logM is log of SMBH mass in M_sol\n",
    "names = ['ra', 'dec', 'z', 'logM']"
   ]
  },
  {
   "cell_type": "markdown",
   "metadata": {},
   "source": [
    "### UNIONS weak-lensing data"
   ]
  },
  {
   "cell_type": "code",
   "execution_count": 6,
   "metadata": {},
   "outputs": [],
   "source": [
    "# Path to data\n",
    "\n",
    "version = '1.0'\n",
    "\n",
    "path_to_unions_data = f'{os.environ[\"HOME\"]}/astro/data/UNIONS/v{version}/ShapePipe'\n",
    "unions_cat_name = f'unions_shapepipe_extended_2022_v{version}.fits'"
   ]
  },
  {
   "cell_type": "markdown",
   "metadata": {},
   "source": [
    "### Output"
   ]
  },
  {
   "cell_type": "code",
   "execution_count": 11,
   "metadata": {},
   "outputs": [],
   "source": [
    "output_path = './output'\n",
    "\n",
    "output_cc_base = 'ggl_all_UNIONS_v1_agn'"
   ]
  },
  {
   "cell_type": "markdown",
   "metadata": {},
   "source": [
    "### Plotting"
   ]
  },
  {
   "cell_type": "code",
   "execution_count": 8,
   "metadata": {},
   "outputs": [],
   "source": [
    "# Figure ticks and labels\n",
    "ticks_size = 15\n",
    "label_size = 18"
   ]
  },
  {
   "cell_type": "markdown",
   "metadata": {},
   "source": [
    "### Units"
   ]
  },
  {
   "cell_type": "code",
   "execution_count": 15,
   "metadata": {},
   "outputs": [],
   "source": [
    "coord_units = 'degrees'\n",
    "sep_units = 'arcmin'"
   ]
  },
  {
   "cell_type": "markdown",
   "metadata": {},
   "source": [
    "## Read catalogs"
   ]
  },
  {
   "cell_type": "code",
   "execution_count": 6,
   "metadata": {},
   "outputs": [],
   "source": [
    "# AGN\n",
    "data_agn = ascii.read(f'{path_to_agn_data}/{agn_cat_name}', names=names)"
   ]
  },
  {
   "cell_type": "code",
   "execution_count": 7,
   "metadata": {},
   "outputs": [],
   "source": [
    "# UNIONS\n",
    "hdu_list_unions = fits.open(f'{path_to_unions_data}/{unions_cat_name}')\n",
    "\n",
    "unions_data = hdu_list_unions[1].data"
   ]
  },
  {
   "cell_type": "markdown",
   "metadata": {},
   "source": [
    "## Computation of correlation"
   ]
  },
  {
   "cell_type": "code",
   "execution_count": 8,
   "metadata": {},
   "outputs": [],
   "source": [
    "TreeCorrConfig = {\n",
    "    'ra_units': coord_units,\n",
    "    'dec_units': coord_units,\n",
    "    'max_sep': '200',\n",
    "    'min_sep': '0.1',\n",
    "    'sep_units': sep_units,\n",
    "    'nbins': 10\n",
    "}"
   ]
  },
  {
   "cell_type": "code",
   "execution_count": 9,
   "metadata": {},
   "outputs": [],
   "source": [
    "cat_mass = treecorr.Catalog(\n",
    "    ra=data_agn['ra'],\n",
    "    dec=data_agn['dec'],\n",
    "    ra_units=coord_units,\n",
    "    dec_units=coord_units\n",
    ")"
   ]
  },
  {
   "cell_type": "code",
   "execution_count": 10,
   "metadata": {},
   "outputs": [],
   "source": [
    "cat_unions = treecorr.Catalog(\n",
    "    ra=unions_data['ra'],\n",
    "    dec=unions_data['dec'],\n",
    "    g1=unions_data['e1'],\n",
    "    g2=unions_data['e2'],\n",
    "    w=unions_data['w'],\n",
    "    ra_units=coord_units,\n",
    "    dec_units=coord_units\n",
    ")"
   ]
  },
  {
   "cell_type": "code",
   "execution_count": null,
   "metadata": {},
   "outputs": [],
   "source": [
    "ng = treecorr.NGCorrelation(TreeCorrConfig)\n",
    "ng.process(cat_mass, cat_unions)"
   ]
  },
  {
   "cell_type": "code",
   "execution_count": 16,
   "metadata": {},
   "outputs": [],
   "source": [
    "# Write correlation data to file\n",
    "ng.write(\n",
    "    f'{output_path}/{output_cc_name}',\n",
    "    rg=None,\n",
    "    file_type=None,\n",
    "    precision=None\n",
    ")"
   ]
  },
  {
   "cell_type": "markdown",
   "metadata": {},
   "source": [
    "## Plotting"
   ]
  },
  {
   "cell_type": "code",
   "execution_count": 12,
   "metadata": {},
   "outputs": [],
   "source": [
    "# Read correlation data file and assign quantities of interest\n",
    "f = fits.open(f'{output_path}/{output_cc_base}.fits')\n",
    "data_cc = f[1].data\n",
    "r_mean = data_cc['meanr']\n",
    "gamX = data_cc['gamX']\n",
    "gamT = data_cc['gamT']\n",
    "sigma = data_cc['sigma']"
   ]
  },
  {
   "cell_type": "code",
   "execution_count": 53,
   "metadata": {},
   "outputs": [
    {
     "data": {
      "image/png": "[encoded data removed]",
      "text/plain": [
       "<Figure size 720x720 with 1 Axes>"
      ]
     },
     "metadata": {
      "needs_background": "light"
     },
     "output_type": "display_data"
    }
   ],
   "source": [
    "plt.figure(figsize=(10, 10))\n",
    "\n",
    "fx = 1.05\n",
    "\n",
    "plt.errorbar(r_mean, gamT, yerr=sigma, fmt='o', label=\"$\\gamma_{\\\\rm t}$\")\n",
    "plt.errorbar(r_mean*fx, gamX, yerr=sigma, fmt='o', markerfacecolor='none', label= \"$\\gamma_{\\\\times}$\")\n",
    "plt.axhline(y=0)\n",
    "\n",
    "plt.xlabel(rf'$\\theta$ [{sep_units}]', fontsize=label_size)\n",
    "plt.ylabel(r'$\\gamma(\\theta)$', fontsize=label_size)\n",
    "\n",
    "plt.xscale(\"log\")\n",
    "plt.xticks(fontsize = ticks_size)\n",
    "plt.yticks(fontsize = ticks_size)\n",
    "plt.legend(fontsize = ticks_size)\n",
    "plt.title('UNIONS - SDSS AGNs GGL')\n",
    "\n",
    "_  = plt.savefig(f'{output_path}/{output_cc_base}.pdf')"
   ]
  },
  {
   "cell_type": "code",
   "execution_count": 52,
   "metadata": {},
   "outputs": [
    {
     "data": {
      "image/png": "[encoded data removed]",
      "text/plain": [
       "<Figure size 720x720 with 1 Axes>"
      ]
     },
     "metadata": {
      "needs_background": "light"
     },
     "output_type": "display_data"
    }
   ],
   "source": [
    "plt.figure(figsize=(10, 10))\n",
    "\n",
    "fx = 1.05\n",
    "\n",
    "plt.errorbar(r_mean, gamT, yerr=sigma, fmt='o', label='$\\gamma_{{\\\\rm t}}}$')\n",
    "plt.errorbar(r_mean, -gamT, yerr=sigma, fmt='s')\n",
    "plt.errorbar(\n",
    "    r_mean*fx,\n",
    "    gamX,\n",
    "    fmt='o',\n",
    "    markerfacecolor='none',\n",
    "    yerr=sigma,\n",
    "    c='orange',\n",
    "    label= '$\\gamma_{\\\\times}$'\n",
    ")\n",
    "eb = plt.errorbar(r_mean*fx, -gamX, fmt='s', markerfacecolor='none', yerr=sigma, c='orange')\n",
    "eb[-1][0].set_linestyle('--')\n",
    "\n",
    "plt.xlabel(rf'$\\theta$ [{sep_units}]', fontsize=label_size)\n",
    "plt.ylabel(r'$\\gamma(\\theta)$', fontsize=label_size)\n",
    "\n",
    "plt.xscale('log')\n",
    "plt.yscale('log')\n",
    "plt.xticks(fontsize = ticks_size)\n",
    "plt.yticks(fontsize = ticks_size)\n",
    "plt.legend(fontsize = ticks_size)\n",
    "plt.title('UNIONS - SDSS AGNs GGL')\n",
    "\n",
    "_  = plt.savefig(f'{output_path}/{output_cc_base}_log.pdf')"
   ]
  },
  {
   "cell_type": "code",
   "execution_count": null,
   "metadata": {},
   "outputs": [],
   "source": []
  }
 ],
 "metadata": {
  "kernelspec": {
   "display_name": "Python 3",
   "language": "python",
   "name": "python3"
  },
  "language_info": {
   "codemirror_mode": {
    "name": "ipython",
    "version": 3
   },
   "file_extension": ".py",
   "mimetype": "text/x-python",
   "name": "python",
   "nbconvert_exporter": "python",
   "pygments_lexer": "ipython3",
   "version": "3.7.7"
  }
 },
 "nbformat": 4,
 "nbformat_minor": 2
}
