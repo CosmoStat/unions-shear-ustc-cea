{
 "cells": [
  {
   "cell_type": "code",
   "execution_count": 3,
   "id": "f3f91597-aa28-4de7-8aaa-68127a55840d",
   "metadata": {},
   "outputs": [],
   "source": [
    "%run ../../dsigma/dsigma/physics.py"
   ]
  },
  {
   "cell_type": "code",
   "execution_count": 162,
   "id": "474d8fd9-24f1-4370-83f0-2bc89204ba68",
   "metadata": {},
   "outputs": [],
   "source": [
    "from astropy.cosmology import FlatLambdaCDM\n",
    "from astropy import units\n",
    "import numpy as np"
   ]
  },
  {
   "cell_type": "code",
   "execution_count": 77,
   "id": "6409c88f-e35d-4de6-862d-823ecaf2177c",
   "metadata": {},
   "outputs": [],
   "source": [
    "z_l = 0.5\n",
    "z_s = 0.8"
   ]
  },
  {
   "cell_type": "code",
   "execution_count": 78,
   "id": "3ab49cb5-e5dc-4d49-9930-5b934c87c214",
   "metadata": {},
   "outputs": [],
   "source": [
    "import pyccl as ccl\n",
    "from cs_util import cosmo as cs_cosmo"
   ]
  },
  {
   "cell_type": "code",
   "execution_count": 79,
   "id": "546ed7bc-fbef-4249-84d9-ca2f8e956469",
   "metadata": {},
   "outputs": [
    {
     "name": "stdout",
     "output_type": "stream",
     "text": [
      "67.0 0.3\n"
     ]
    }
   ],
   "source": [
    "cosmo = ccl.core.CosmologyVanillaLCDM()\n",
    "print(cosmo['H0'], cosmo['Omega_m'])"
   ]
  },
  {
   "cell_type": "code",
   "execution_count": 80,
   "id": "2f3b4b6a-40fc-435a-a8fb-29d0a22d2cb8",
   "metadata": {},
   "outputs": [],
   "source": [
    "cosmology = FlatLambdaCDM(cosmo['H0'], cosmo['Omega_m'])"
   ]
  },
  {
   "cell_type": "code",
   "execution_count": 81,
   "id": "3e9a7d25-0787-40aa-9a2a-2e2f7bd70b51",
   "metadata": {},
   "outputs": [
    {
     "data": {
      "text/latex": [
       "$3920.1478 \\; \\mathrm{\\frac{M_{\\odot}}{pc^{2}}}$"
      ],
      "text/plain": [
       "<Quantity 3920.14775414 solMass / pc2>"
      ]
     },
     "execution_count": 81,
     "metadata": {},
     "output_type": "execute_result"
    }
   ],
   "source": [
    "cs_cosmo.sigma_crit(z_l, z_s, cosmo)"
   ]
  },
  {
   "cell_type": "code",
   "execution_count": 82,
   "id": "3910e53e-3d56-4d4e-8074-092df26e9dc7",
   "metadata": {},
   "outputs": [
    {
     "data": {
      "text/plain": [
       "3919.6996741201497"
      ]
     },
     "execution_count": 82,
     "metadata": {},
     "output_type": "execute_result"
    }
   ],
   "source": [
    "critical_surface_density(z_l, z_s, cosmology=cosmology, comoving=False)"
   ]
  },
  {
   "cell_type": "code",
   "execution_count": 13,
   "id": "bea68c79-df8a-40d8-9784-c5bc00a9c4b4",
   "metadata": {},
   "outputs": [],
   "source": [
    "from astropy import constants as c\n",
    "from astropy import units as u"
   ]
  },
  {
   "cell_type": "code",
   "execution_count": 14,
   "id": "684d04c2-9fab-4c77-a763-7d06a6efbfd3",
   "metadata": {},
   "outputs": [],
   "source": [
    "_sigma_crit_factor = (c.c**2 / (4 * np.pi * c.G)).to(u.Msun / u.pc).value       "
   ]
  },
  {
   "cell_type": "code",
   "execution_count": 15,
   "id": "e30a5fa0-1823-4cc8-b71a-f4511d27414c",
   "metadata": {},
   "outputs": [
    {
     "data": {
      "text/plain": [
       "1662916540175.601"
      ]
     },
     "execution_count": 15,
     "metadata": {},
     "output_type": "execute_result"
    }
   ],
   "source": [
    "_sigma_crit_factor"
   ]
  },
  {
   "cell_type": "code",
   "execution_count": 16,
   "id": "05b2ba48-05eb-44df-87f0-e12c31c02f01",
   "metadata": {},
   "outputs": [
    {
     "data": {
      "text/latex": [
       "$1.6629165 \\times 10^{12} \\; \\mathrm{\\frac{M_{\\odot}}{pc}}$"
      ],
      "text/plain": [
       "<Quantity 1.66291654e+12 solMass / pc>"
      ]
     },
     "execution_count": 16,
     "metadata": {},
     "output_type": "execute_result"
    }
   ],
   "source": [
    "(c.c**2 / (4 * np.pi * c.G)).to(u.Msun / u.pc)"
   ]
  },
  {
   "cell_type": "code",
   "execution_count": 40,
   "id": "bdeb2885-ed28-4bcb-b4ac-0e1013a7d562",
   "metadata": {},
   "outputs": [
    {
     "data": {
      "text/latex": [
       "$1963.0371 \\; \\mathrm{Mpc}$"
      ],
      "text/plain": [
       "<Quantity 1963.03705772 Mpc>"
      ]
     },
     "execution_count": 40,
     "metadata": {},
     "output_type": "execute_result"
    }
   ],
   "source": [
    "cosmology.comoving_transverse_distance(z_l)"
   ]
  },
  {
   "cell_type": "code",
   "execution_count": 83,
   "id": "a70c22b2-c084-41e7-9378-b1d5a2e4a9ba",
   "metadata": {},
   "outputs": [],
   "source": [
    "a_lens = 1 / (1 + z_l)\n",
    "a_source = 1 / (1 + z_s)"
   ]
  },
  {
   "cell_type": "code",
   "execution_count": 84,
   "id": "ce338408-4c10-47c0-a005-2f303561190b",
   "metadata": {},
   "outputs": [
    {
     "data": {
      "text/plain": [
       "1315.3937835433621"
      ]
     },
     "execution_count": 84,
     "metadata": {},
     "output_type": "execute_result"
    }
   ],
   "source": [
    "cosmo.angular_diameter_distance(a_lens)"
   ]
  },
  {
   "cell_type": "code",
   "execution_count": 53,
   "id": "61379d71-8478-4c1d-a13a-10feaedc1357",
   "metadata": {},
   "outputs": [
    {
     "data": {
      "text/latex": [
       "$1308.6914 \\; \\mathrm{Mpc}$"
      ],
      "text/plain": [
       "<Quantity 1308.69137181 Mpc>"
      ]
     },
     "execution_count": 53,
     "metadata": {},
     "output_type": "execute_result"
    }
   ],
   "source": [
    "d_l = cosmology.comoving_transverse_distance(z_l) / (1 + z_l)\n",
    "d_l"
   ]
  },
  {
   "cell_type": "code",
   "execution_count": 88,
   "id": "b573899f-18c7-4bb2-a240-d69dc2ac37fc",
   "metadata": {},
   "outputs": [
    {
     "data": {
      "text/latex": [
       "$1617.9195 \\; \\mathrm{Mpc}$"
      ],
      "text/plain": [
       "<Quantity 1617.91952285 Mpc>"
      ]
     },
     "execution_count": 88,
     "metadata": {},
     "output_type": "execute_result"
    }
   ],
   "source": [
    "d_s = cosmo.angular_diameter_distance(a_source) * units.Mpc\n",
    "d_s"
   ]
  },
  {
   "cell_type": "code",
   "execution_count": 52,
   "id": "8951e1e6-b421-4b60-a0b8-908b55729c03",
   "metadata": {},
   "outputs": [
    {
     "data": {
      "text/latex": [
       "$1710.7845 \\; \\mathrm{Mpc}$"
      ],
      "text/plain": [
       "<Quantity 1710.78448231 Mpc>"
      ]
     },
     "execution_count": 52,
     "metadata": {},
     "output_type": "execute_result"
    }
   ],
   "source": [
    "d_s = cosmology.comoving_transverse_distance(z_s) / (1 + z_s)\n",
    "d_s"
   ]
  },
  {
   "cell_type": "code",
   "execution_count": 90,
   "id": "3d04cc5f-c76d-4b85-99b8-0bf696d3c4ce",
   "metadata": {},
   "outputs": [
    {
     "data": {
      "text/latex": [
       "$1315.4605 \\; \\mathrm{Mpc^{2}}$"
      ],
      "text/plain": [
       "<Quantity 1315.46047478 Mpc2>"
      ]
     },
     "execution_count": 90,
     "metadata": {},
     "output_type": "execute_result"
    }
   ],
   "source": [
    "d_l = cosmology.angular_diameter_distance(z_l)\n",
    "d_l"
   ]
  },
  {
   "cell_type": "code",
   "execution_count": 91,
   "id": "607c226f-4194-4088-a408-66e00b091b31",
   "metadata": {},
   "outputs": [
    {
     "data": {
      "text/latex": [
       "$521.75804 \\; \\mathrm{Mpc}$"
      ],
      "text/plain": [
       "<Quantity 521.75803656 Mpc>"
      ]
     },
     "execution_count": 91,
     "metadata": {},
     "output_type": "execute_result"
    }
   ],
   "source": [
    "cosmo.angular_diameter_distance(a_lens, a_source) * units.Mpc"
   ]
  },
  {
   "cell_type": "code",
   "execution_count": 55,
   "id": "d2f92a70-c601-454a-a1ea-7b49b3cb81e0",
   "metadata": {},
   "outputs": [
    {
     "data": {
      "text/latex": [
       "$201.04656 \\; \\mathrm{Mpc}$"
      ],
      "text/plain": [
       "<Quantity 201.04655525 Mpc>"
      ]
     },
     "execution_count": 55,
     "metadata": {},
     "output_type": "execute_result"
    }
   ],
   "source": [
    "(d_s - d_l) / (1 + z_s)"
   ]
  },
  {
   "cell_type": "code",
   "execution_count": 184,
   "id": "bcfa9964-9d1f-4f35-965b-1f54318df159",
   "metadata": {},
   "outputs": [],
   "source": [
    "z_source_arr = [0.4, 0.6, 0.8, 0.9]"
   ]
  },
  {
   "cell_type": "code",
   "execution_count": 185,
   "id": "0821e16c-10ad-440d-b897-244af6072bcc",
   "metadata": {},
   "outputs": [],
   "source": [
    "nz_source_arr = [0.5, 0.6, 2.2, 1.6]"
   ]
  },
  {
   "cell_type": "code",
   "execution_count": 186,
   "id": "2b5ff24b-65b4-4c56-bd3e-d71180f37a01",
   "metadata": {},
   "outputs": [],
   "source": [
    "sc = 0\n",
    "for z_source, nz_source in zip(z_source_arr, nz_source_arr):\n",
    "  sc += cs_cosmo.sigma_crit(z_l, z_source, cosmo) * nz_source"
   ]
  },
  {
   "cell_type": "code",
   "execution_count": 187,
   "id": "9bc20fe0-44dc-48f1-8cdb-4f3b075917e1",
   "metadata": {},
   "outputs": [
    {
     "data": {
      "text/latex": [
       "$3917.2681 \\; \\mathrm{\\frac{M_{\\odot}}{pc^{2}}}$"
      ],
      "text/plain": [
       "<Quantity 3917.26812669 solMass / pc2>"
      ]
     },
     "execution_count": 187,
     "metadata": {},
     "output_type": "execute_result"
    }
   ],
   "source": [
    "sc / sum(nz_source_arr)"
   ]
  },
  {
   "cell_type": "code",
   "execution_count": 188,
   "id": "97a7f3c1-3387-4f1b-800a-7f82f60a51ef",
   "metadata": {},
   "outputs": [
    {
     "data": {
      "text/latex": [
       "$3917.2681 \\; \\mathrm{\\frac{M_{\\odot}}{pc^{2}}}$"
      ],
      "text/plain": [
       "<Quantity 3917.26812669 solMass / pc2>"
      ]
     },
     "execution_count": 188,
     "metadata": {},
     "output_type": "execute_result"
    }
   ],
   "source": [
    "cs_cosmo.sigma_crit_eff(z_l, z_source_arr, nz_source_arr, cosmo)"
   ]
  },
  {
   "cell_type": "code",
   "execution_count": 198,
   "id": "28230722-f0de-47f9-88c6-6ce1676dbfcc",
   "metadata": {},
   "outputs": [
    {
     "name": "stdout",
     "output_type": "stream",
     "text": [
      "0\n",
      "6.834560700225069e-05\n",
      "0.0006295489437071494\n",
      "0.0011122998237343483\n"
     ]
    }
   ],
   "source": [
    "sc = 0\n",
    "for z_source, nz_source in zip(z_source_arr, nz_source_arr):\n",
    "#    if z_l < z_source:\n",
    "#        sc += 1 / cs_cosmo.sigma_crit(z_l, z_source, cosmo) * nz_source\n",
    "    x = cs_cosmo.sigma_crit(z_l, z_source, cosmo).value\n",
    "    if x > 0:\n",
    "        sc += 1 / x * nz_source\n",
    "    print(sc)"
   ]
  },
  {
   "cell_type": "code",
   "execution_count": 196,
   "id": "2132cf59-76ad-4d5d-b591-afd76d5a96c6",
   "metadata": {},
   "outputs": [
    {
     "data": {
      "text/plain": [
       "0.000226999964027418"
      ]
     },
     "execution_count": 196,
     "metadata": {},
     "output_type": "execute_result"
    }
   ],
   "source": [
    "sc / sum(nz_source_arr)"
   ]
  },
  {
   "cell_type": "code",
   "execution_count": 197,
   "id": "8d9c9279-acdd-4d3c-82cb-2d93319f29dc",
   "metadata": {},
   "outputs": [
    {
     "data": {
      "text/latex": [
       "$0.00025279541 \\; \\mathrm{\\frac{pc^{2}}{M_{\\odot}}}$"
      ],
      "text/plain": [
       "<Quantity 0.0002528 pc2 / solMass>"
      ]
     },
     "execution_count": 197,
     "metadata": {},
     "output_type": "execute_result"
    }
   ],
   "source": [
    "cs_cosmo.sigma_crit_m1_eff(z_l, z_source_arr, nz_source_arr, cosmo)"
   ]
  },
  {
   "cell_type": "code",
   "execution_count": 125,
   "id": "ced8e834-313f-418f-8b1b-ff0704b014f9",
   "metadata": {},
   "outputs": [
    {
     "data": {
      "text/latex": [
       "$861.45316 \\; \\mathrm{\\frac{M_{\\odot}}{pc^{2}}}$"
      ],
      "text/plain": [
       "<Quantity 861.4531559 solMass / pc2>"
      ]
     },
     "execution_count": 125,
     "metadata": {},
     "output_type": "execute_result"
    }
   ],
   "source": [
    "1 / sc"
   ]
  },
  {
   "cell_type": "code",
   "execution_count": 204,
   "id": "8b4d8f41-109e-484d-87eb-619ee4c2932a",
   "metadata": {},
   "outputs": [
    {
     "data": {
      "text/latex": [
       "$1 \\; \\mathrm{\\frac{1}{M_{\\odot}}}$"
      ],
      "text/plain": [
       "<Quantity 1. 1 / solMass>"
      ]
     },
     "execution_count": 204,
     "metadata": {},
     "output_type": "execute_result"
    }
   ],
   "source": [
    "1.0 / units.Msun"
   ]
  },
  {
   "cell_type": "code",
   "execution_count": 205,
   "id": "11d4abd3-d738-4f96-86b4-d7020ac9e198",
   "metadata": {},
   "outputs": [],
   "source": [
    "sigma_crit_unit = units.Msun / units.pc**2"
   ]
  },
  {
   "cell_type": "code",
   "execution_count": 209,
   "id": "10ddf1f7-7c3b-4a99-9bda-49791ec9d3a5",
   "metadata": {},
   "outputs": [
    {
     "data": {
      "text/latex": [
       "$1 \\; \\mathrm{}$"
      ],
      "text/plain": [
       "<Quantity 1.>"
      ]
     },
     "execution_count": 209,
     "metadata": {},
     "output_type": "execute_result"
    }
   ],
   "source": [
    "1 / sigma_crit_unit / ( units.pc**2 / units.Msun )"
   ]
  },
  {
   "cell_type": "code",
   "execution_count": null,
   "id": "dc1b1681-24ed-491c-a4f2-e04712c14acd",
   "metadata": {},
   "outputs": [],
   "source": []
  }
 ],
 "metadata": {
  "kernelspec": {
   "display_name": "Python 3 (ipykernel)",
   "language": "python",
   "name": "python3"
  },
  "language_info": {
   "codemirror_mode": {
    "name": "ipython",
    "version": 3
   },
   "file_extension": ".py",
   "mimetype": "text/x-python",
   "name": "python",
   "nbconvert_exporter": "python",
   "pygments_lexer": "ipython3",
   "version": "3.10.0"
  }
 },
 "nbformat": 4,
 "nbformat_minor": 5
}
