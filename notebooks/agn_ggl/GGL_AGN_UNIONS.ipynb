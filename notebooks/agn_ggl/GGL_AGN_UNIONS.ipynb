{
 "cells": [
  {
   "cell_type": "markdown",
   "metadata": {},
   "source": [
    "# GGL of UNIONS galaxies by AGNs\n",
    "\n",
    "This notebook performs first measurements of galaxy-galaxy lensing between SDSS AGN and UNIONS 3500 deg^2 catalogs."
   ]
  },
  {
   "cell_type": "code",
   "execution_count": 1,
   "metadata": {},
   "outputs": [],
   "source": [
    "%matplotlib inline"
   ]
  },
  {
   "cell_type": "code",
   "execution_count": null,
   "metadata": {},
   "outputs": [],
   "source": [
    "import os\n",
    "\n",
    "import numpy as np\n",
    "import matplotlib.pyplot as plt\n",
    "\n",
    "from astropy.io import fits\n",
    "from astropy.io import ascii"
   ]
  },
  {
   "cell_type": "code",
   "execution_count": null,
   "metadata": {},
   "outputs": [],
   "source": [
    "import treecorr"
   ]
  },
  {
   "cell_type": "markdown",
   "metadata": {},
   "source": [
    "## Variables"
   ]
  },
  {
   "cell_type": "code",
   "execution_count": 4,
   "metadata": {},
   "outputs": [],
   "source": [
    "# Split catalogue into mass bins\n",
    "n_split = 2"
   ]
  },
  {
   "cell_type": "markdown",
   "metadata": {},
   "source": [
    "### Output"
   ]
  },
  {
   "cell_type": "code",
   "execution_count": null,
   "metadata": {},
   "outputs": [],
   "source": [
    "output_path = './data_mass_sub'\n",
    "\n",
    "output_cc_base = 'ggl_all_UNIONS_v1_agn'"
   ]
  },
  {
   "cell_type": "markdown",
   "metadata": {},
   "source": [
    "### AGN data"
   ]
  },
  {
   "cell_type": "code",
   "execution_count": null,
   "metadata": {},
   "outputs": [],
   "source": [
    "# Path to data\n",
    "path_to_agn_data = output_path\n",
    "\n",
    "# AGN catalogue name\n",
    "agn_cat_fname_base = 'SDSS_SMBH_202206'\n",
    "\n",
    "# Columns in data\n",
    "# ra, dec in deg\n",
    "# logM is log of SMBH mass in M_sol\n",
    "#names = ['ra', 'dec', 'z', 'logM']\n",
    "\n",
    "names = ['ra', 'dec', 'z', 'logM', 'w_0', 'w_1']"
   ]
  },
  {
   "cell_type": "markdown",
   "metadata": {},
   "source": [
    "### UNIONS weak-lensing data"
   ]
  },
  {
   "cell_type": "code",
   "execution_count": null,
   "metadata": {},
   "outputs": [],
   "source": [
    "# Path to data\n",
    "\n",
    "version = '1.0'\n",
    "\n",
    "path_to_unions_data = f'{os.environ[\"HOME\"]}/astro/data/UNIONS/v{version}/ShapePipe'\n",
    "unions_cat_name = f'unions_shapepipe_extended_2022_v{version}.fits'"
   ]
  },
  {
   "cell_type": "markdown",
   "metadata": {},
   "source": [
    "### Plotting"
   ]
  },
  {
   "cell_type": "code",
   "execution_count": null,
   "metadata": {},
   "outputs": [],
   "source": [
    "# Figure ticks and labels\n",
    "ticks_size = 15\n",
    "label_size = 18"
   ]
  },
  {
   "cell_type": "markdown",
   "metadata": {},
   "source": [
    "### Units"
   ]
  },
  {
   "cell_type": "code",
   "execution_count": 11,
   "metadata": {},
   "outputs": [],
   "source": [
    "coord_units = 'degrees'\n",
    "sep_units = 'arcmin'"
   ]
  },
  {
   "cell_type": "markdown",
   "metadata": {},
   "source": [
    "## Read catalogs"
   ]
  },
  {
   "cell_type": "code",
   "execution_count": null,
   "metadata": {},
   "outputs": [],
   "source": [
    "# Set file names\n",
    "agn_cat_name_list = []\n",
    "for idx in range(n_split):\n",
    "    agn_cat_name = f'{output_path}/{agn_cat_fname_base}_{idx}_n_split_{n_split}.txt'\n",
    "    agn_cat_name_list.append(agn_cat_name)"
   ]
  },
  {
   "cell_type": "code",
   "execution_count": null,
   "metadata": {},
   "outputs": [],
   "source": [
    "# AGN mass subsamples\n",
    "data_agn_list = []\n",
    "for agn_cat_name in agn_cat_name_list:\n",
    "    data_agn = ascii.read(f'{agn_cat_name}', names=names)\n",
    "    data_agn_list.append(data_agn)"
   ]
  },
  {
   "cell_type": "code",
   "execution_count": 14,
   "metadata": {},
   "outputs": [],
   "source": [
    "# UNIONS\n",
    "hdu_list_unions = fits.open(f'{path_to_unions_data}/{unions_cat_name}')\n",
    "\n",
    "unions_data = hdu_list_unions[1].data"
   ]
  },
  {
   "cell_type": "markdown",
   "metadata": {},
   "source": [
    "## Computation of correlation"
   ]
  },
  {
   "cell_type": "code",
   "execution_count": null,
   "metadata": {},
   "outputs": [],
   "source": [
    "theta_min = 0.1\n",
    "theta_max = 200\n",
    "\n",
    "TreeCorrConfig = {\n",
    "    'ra_units': coord_units,\n",
    "    'dec_units': coord_units,\n",
    "    'min_sep': theta_min,\n",
    "    'max_sep': theta_max,\n",
    "    'sep_units': sep_units,\n",
    "    'nbins': 10\n",
    "}"
   ]
  },
  {
   "cell_type": "code",
   "execution_count": null,
   "metadata": {},
   "outputs": [],
   "source": [
    "cat_mass_list = []\n",
    "\n",
    "for idx in range(len(agn_cat_name_list)):\n",
    "    data_agn = data_agn_list[idx]\n",
    "    cat_mass = treecorr.Catalog(\n",
    "        ra=data_agn['ra'],\n",
    "        dec=data_agn['dec'],\n",
    "        w=data_agn[f'w_{idx}'],\n",
    "        ra_units=coord_units,\n",
    "        dec_units=coord_units\n",
    "    )\n",
    "    cat_mass_list.append(cat_mass)"
   ]
  },
  {
   "cell_type": "code",
   "execution_count": null,
   "metadata": {},
   "outputs": [],
   "source": [
    "cat_unions = treecorr.Catalog(\n",
    "    ra=unions_data['ra'],\n",
    "    dec=unions_data['dec'],\n",
    "    g1=unions_data['e1'],\n",
    "    g2=unions_data['e2'],\n",
    "    w=unions_data['w'],\n",
    "    ra_units=coord_units,\n",
    "    dec_units=coord_units\n",
    ")"
   ]
  },
  {
   "cell_type": "code",
   "execution_count": null,
   "metadata": {},
   "outputs": [],
   "source": [
    "ng_list = []\n",
    "for idx in range(len(agn_cat_name_list)):\n",
    "    cat_mass = cat_mass_list[idx]\n",
    "    ng = treecorr.NGCorrelation(TreeCorrConfig)\n",
    "    print(f'Processing cat mass cat #{idx}')\n",
    "    ng.process(cat_mass, cat_unions)\n",
    "    ng_list.append(ng)"
   ]
  },
  {
   "cell_type": "code",
   "execution_count": null,
   "metadata": {},
   "outputs": [],
   "source": [
    "# Write correlation data to files\n",
    "for idx, ng in enumerate(ng_list):\n",
    "    out_name = f'{output_path}/{output_cc_base}_{idx}_n_split_{n_split}.fits'\n",
    "    print(f'Writing GGL correlation function to file {out_name}')\n",
    "    ng.write(\n",
    "        out_name,\n",
    "        rg=None,\n",
    "        file_type=None,\n",
    "        precision=None\n",
    "    )"
   ]
  },
  {
   "cell_type": "markdown",
   "metadata": {},
   "source": [
    "## Plotting"
   ]
  },
  {
   "cell_type": "code",
   "execution_count": 57,
   "metadata": {},
   "outputs": [],
   "source": [
    "# Read correlation data file and assign quantities of interest\n",
    "data_cc_list = []\n",
    "for idx in range(n_split):\n",
    "    cc_name = f'{output_path}/{output_cc_base}_{idx}_n_split_{n_split}.fits'\n",
    "    f = fits.open(cc_name)\n",
    "    data_cc = f[1].data\n",
    "    data_cc_list.append(data_cc)"
   ]
  },
  {
   "cell_type": "code",
   "execution_count": null,
   "metadata": {},
   "outputs": [],
   "source": [
    "data_cc_list[0].dtype.names"
   ]
  },
  {
   "cell_type": "code",
   "execution_count": 76,
   "metadata": {},
   "outputs": [
    {
     "data": {
      "image/png": "[encoded data removed]",
      "text/plain": [
       "<Figure size 720x720 with 1 Axes>"
      ]
     },
     "metadata": {
      "needs_background": "light"
     },
     "output_type": "display_data"
    }
   ],
   "source": [
    "plt.figure(figsize=(10, 10))\n",
    "\n",
    "fx = 1.05\n",
    "\n",
    "for idx in range(n_split):\n",
    "    data_cc = data_cc_list[idx]\n",
    "    plt.errorbar(\n",
    "        data_cc['meanr'],\n",
    "        data_cc['gamT'],\n",
    "        yerr=data_cc['sigma'],\n",
    "        fmt='o',\n",
    "        label=rf'$\\gamma_{{\\rm t}}$ {idx}')\n",
    "    \n",
    "    plt.errorbar(\n",
    "        data_cc['meanr']*fx,\n",
    "        data_cc['gamX'],\n",
    "        yerr=data_cc['sigma'],\n",
    "        fmt='o',\n",
    "        markerfacecolor='none',\n",
    "        label=rf'$\\gamma_{{\\times}}$ {idx}'\n",
    "    )\n",
    "plt.axhline(y=0)\n",
    "\n",
    "plt.xlabel(rf'$\\theta$ [{sep_units}]', fontsize=label_size)\n",
    "plt.ylabel(r'$\\gamma(\\theta)$', fontsize=label_size)\n",
    "\n",
    "plt.xscale(\"log\")\n",
    "plt.xlim(theta_min, 50)\n",
    "plt.xticks(fontsize = ticks_size)\n",
    "plt.yticks(fontsize = ticks_size)\n",
    "plt.legend(fontsize = ticks_size)\n",
    "plt.title('UNIONS - SDSS AGNs GGL')\n",
    "\n",
    "_  = plt.savefig(f'{output_path}/{output_cc_base}.pdf')"
   ]
  },
  {
   "cell_type": "code",
   "execution_count": null,
   "metadata": {},
   "outputs": [],
   "source": [
    "plt.figure(figsize=(10, 10))\n",
    "\n",
    "fx = [1, 1.05]\n",
    "\n",
    "col = ['g', 'b']\n",
    "\n",
    "for idx in range(n_split):\n",
    "    data_cc = data_cc_list[idx]\n",
    "    plt.errorbar(\n",
    "        data_cc['meanr'] * fx[idx],\n",
    "        data_cc['gamT'],\n",
    "        yerr=data_cc['sigma'],\n",
    "        fmt='o',\n",
    "        c=col[idx],\n",
    "        label=rf'$\\gamma_{{\\rm t}}$ {idx}'\n",
    "    )\n",
    "    eb = plt.errorbar(\n",
    "        data_cc['meanr'] * fx[idx],\n",
    "        -data_cc['gamT'],\n",
    "        yerr=data_cc['sigma'],\n",
    "        fmt='s',\n",
    "        c=col[idx],\n",
    "    )\n",
    "    eb[-1][0].set_linestyle('--')\n",
    "\n",
    "plt.xlabel(rf'$\\theta$ [{sep_units}]', fontsize=label_size)\n",
    "plt.ylabel(r'$\\gamma(\\theta)$', fontsize=label_size)\n",
    "\n",
    "plt.xscale('log')\n",
    "plt.yscale('log')\n",
    "plt.xticks(fontsize = ticks_size)\n",
    "plt.yticks(fontsize = ticks_size)\n",
    "plt.legend(fontsize = ticks_size)\n",
    "plt.title('UNIONS - SDSS AGNs GGL')\n",
    "\n",
    "_  = plt.savefig(f'{output_path}/{output_cc_base}_log_gt.pdf')"
   ]
  },
  {
   "cell_type": "code",
   "execution_count": 93,
   "metadata": {},
   "outputs": [
    {
     "data": {
      "image/png": "[encoded data removed]",
      "text/plain": [
       "<Figure size 720x720 with 1 Axes>"
      ]
     },
     "metadata": {
      "needs_background": "light"
     },
     "output_type": "display_data"
    }
   ],
   "source": [
    "plt.figure(figsize=(10, 10))\n",
    "\n",
    "fx = [1, 1.1]\n",
    "\n",
    "col = ['g', 'b']\n",
    "\n",
    "for idx in range(n_split):\n",
    "    data_cc = data_cc_list[idx]\n",
    "    plt.errorbar(\n",
    "        data_cc['meanr'] * fx[idx],\n",
    "        data_cc['gamX'],\n",
    "        yerr=data_cc['sigma'],\n",
    "        fmt='o',\n",
    "        markerfacecolor='none',\n",
    "        c=col[idx],\n",
    "        label=rf'$\\gamma_{{\\times}}$ {idx}'\n",
    "    )\n",
    "\n",
    "plt.axhline(y=0)\n",
    "\n",
    "plt.xlabel(rf'$\\theta$ [{sep_units}]', fontsize=label_size)\n",
    "plt.ylabel(r'$\\gamma(\\theta)$', fontsize=label_size)\n",
    "\n",
    "plt.xscale('log')\n",
    "plt.ylim(-0.002, 0.002)\n",
    "plt.xticks(fontsize = ticks_size)\n",
    "plt.yticks(fontsize = ticks_size)\n",
    "plt.legend(fontsize = ticks_size)\n",
    "plt.title('UNIONS - SDSS AGNs GGL')\n",
    "\n",
    "_  = plt.savefig(f'{output_path}/{output_cc_base}_gx.pdf')"
   ]
  },
  {
   "cell_type": "code",
   "execution_count": 98,
   "metadata": {},
   "outputs": [
    {
     "data": {
      "image/png": "[encoded data removed]",
      "text/plain": [
       "<Figure size 720x720 with 1 Axes>"
      ]
     },
     "metadata": {
      "needs_background": "light"
     },
     "output_type": "display_data"
    }
   ],
   "source": [
    "plt.figure(figsize=(10, 10))\n",
    "\n",
    "fx = [1, 1.05]\n",
    "fxB = [1.1, 1.15]\n",
    "\n",
    "col = ['g', 'b']\n",
    "\n",
    "for idx in range(n_split):\n",
    "    data_cc = data_cc_list[idx]\n",
    "    plt.errorbar(\n",
    "        data_cc['meanr'] * fx[idx],\n",
    "        np.abs(data_cc['gamT']),\n",
    "        yerr=data_cc['sigma'],\n",
    "        fmt='o',\n",
    "        c=col[idx],\n",
    "        label=rf'$\\gamma_{{\\rm t}}$ {idx}'\n",
    "    )\n",
    "\n",
    "    eb = plt.errorbar(\n",
    "        data_cc['meanr'] * fxB[idx],\n",
    "        np.abs(data_cc['gamX']),\n",
    "        yerr=data_cc['sigma'],\n",
    "        fmt='o',\n",
    "        markerfacecolor='none',\n",
    "        c=col[idx],\n",
    "        label=rf'$|\\gamma_{{\\times}}|$ {idx}'\n",
    "    )\n",
    "    eb[-1][0].set_linestyle('--')\n",
    "\n",
    "\n",
    "plt.xlabel(rf'$\\theta$ [{sep_units}]', fontsize=label_size)\n",
    "plt.ylabel(r'$\\gamma(\\theta)$', fontsize=label_size)\n",
    "\n",
    "plt.xscale('log')\n",
    "plt.yscale('log')\n",
    "plt.ylim(1e-5, 2e-2)\n",
    "plt.xticks(fontsize = ticks_size)\n",
    "plt.yticks(fontsize = ticks_size)\n",
    "plt.legend(fontsize = ticks_size)\n",
    "plt.title('UNIONS - SDSS AGNs GGL')\n",
    "\n",
    "_  = plt.savefig(f'{output_path}/{output_cc_base}_log.pdf')"
   ]
  },
  {
   "cell_type": "code",
   "execution_count": null,
   "metadata": {},
   "outputs": [],
   "source": []
  }
 ],
 "metadata": {
  "kernelspec": {
   "display_name": "Python 3 (ipykernel)",
   "language": "python",
   "name": "python3"
  },
  "language_info": {
   "codemirror_mode": {
    "name": "ipython",
    "version": 3
   },
   "file_extension": ".py",
   "mimetype": "text/x-python",
   "name": "python",
   "nbconvert_exporter": "python",
   "pygments_lexer": "ipython3",
   "version": "3.7.7"
  }
 },
 "nbformat": 4,
 "nbformat_minor": 4
}
