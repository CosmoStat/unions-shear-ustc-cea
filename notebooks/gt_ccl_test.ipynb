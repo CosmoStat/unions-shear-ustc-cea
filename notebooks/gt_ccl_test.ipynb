{
 "cells": [
  {
   "cell_type": "code",
   "execution_count": 56,
   "id": "c8aafd0c-9310-42ce-8bcd-74101d22fc01",
   "metadata": {},
   "outputs": [],
   "source": [
    "import pyccl as ccl\n",
    "import pyccl.nl_pt as pt                                                        "
   ]
  },
  {
   "cell_type": "code",
   "execution_count": 400,
   "id": "61df241f-ff4f-4fe3-bc20-6a50976ecb1e",
   "metadata": {},
   "outputs": [],
   "source": [
    "ccl.spline_params.ELL_MAX_CORR = 500_000\n",
    "ccl.spline_params.N_ELL_CORR = 5_000"
   ]
  },
  {
   "cell_type": "code",
   "execution_count": 401,
   "id": "08682ecb-4dff-4b85-9f18-243666190fcc",
   "metadata": {},
   "outputs": [],
   "source": [
    "import numpy as np\n",
    "import matplotlib.pylab"
   ]
  },
  {
   "cell_type": "code",
   "execution_count": 380,
   "id": "1a8b62f5-663f-4141-9668-c501e7731089",
   "metadata": {},
   "outputs": [],
   "source": [
    "# Linear galaxy bias\n",
    "bias_1 = 1.1"
   ]
  },
  {
   "cell_type": "code",
   "execution_count": 402,
   "id": "98d62a69-5092-45ac-9673-cb9f8c30e4c7",
   "metadata": {},
   "outputs": [],
   "source": [
    "# Define two cases of minimum redshift for lens distribution\n",
    "\n",
    "z_min = {'a':  0.06, 'b' : 0.07}\n",
    "\n",
    "# Plotting styles\n",
    "linestyle = {'a': ':', 'b': '--'}\n",
    "\n",
    "# Lens redshift distribution\n",
    "z_lens = {}\n",
    "dndz_lens = {}\n",
    "\n",
    "for key in z_min:\n",
    "    z_lens[key] = np.arange(z_min[key], 0.5, 0.01)\n",
    "    dndz_lens[key] = np.ones_like(z_lens[key])"
   ]
  },
  {
   "cell_type": "code",
   "execution_count": 403,
   "id": "f41b27ec-cbe2-434e-903c-f8c587297802",
   "metadata": {},
   "outputs": [],
   "source": [
    "# Source redshift distribution\n",
    "z_source = np.arange(0.2, 1.5, 0.1)\n",
    "z_0 = 0.5\n",
    "beta = 1.5\n",
    "\n",
    "dndz_source = (z_source / z_0)**2 * np.exp(- (z_source / z_0) ** beta)"
   ]
  },
  {
   "cell_type": "code",
   "execution_count": 404,
   "id": "ad88b4ac-329e-4c27-8b0d-e1b543c01737",
   "metadata": {},
   "outputs": [],
   "source": [
    "#from unions_wl import catalogue as cat\n",
    "#z_lens, dndz_lens, x = cat.read_dndz('/home/mkilbing/astro/Runs/UNIONS/ggl-agn/jobs/Shen22_and_Liu19_logM_min_7_nz_0_z_0.1_0.8/hist_z_0_n_split_1_w.txt')\n",
    "#z_source, dndz_source, x = cat.read_dndz('/home/mkilbing/astro/data/CFIS/v1.0/nz/dndz_SP_A.txt')"
   ]
  },
  {
   "cell_type": "code",
   "execution_count": 405,
   "id": "9df287f4-18d7-4931-8b04-3aeb6b0bfc66",
   "metadata": {},
   "outputs": [
    {
     "data": {
      "image/png": "[encoded data removed]",
      "text/plain": [
       "<Figure size 640x480 with 1 Axes>"
      ]
     },
     "metadata": {},
     "output_type": "display_data"
    }
   ],
   "source": [
    "for key in z_min:\n",
    "    plt.plot(z_lens[key], dndz_lens[key], linestyle=linestyle[key])\n",
    "_ = plt.plot(z_source, dndz_source)"
   ]
  },
  {
   "cell_type": "code",
   "execution_count": 406,
   "id": "cc76d0f4-7234-425f-b3a2-674384441ecc",
   "metadata": {},
   "outputs": [],
   "source": [
    "# Set cosmology and galaxy bias(z)\n",
    "cosmo = ccl.Cosmology(                                                  \n",
    "        Omega_c=0.27,                                                           \n",
    "        Omega_b=0.045,                                                          \n",
    "        h=0.67,                                                                 \n",
    "        sigma8=0.83,                                                            \n",
    "        n_s=0.96,                                                               \n",
    ")\n",
    "\n",
    "bias_g = {}\n",
    "\n",
    "for key in z_min:\n",
    "    bias_g[key] = np.ones_like(z_lens[key]) * bias_1"
   ]
  },
  {
   "cell_type": "code",
   "execution_count": 407,
   "id": "d32fb34c-cfe0-4360-a685-aa4bd6e8e641",
   "metadata": {},
   "outputs": [],
   "source": [
    "# Compute tracers for lenses and sources\n",
    "tracer_g = {}\n",
    "\n",
    "for key in z_min:\n",
    "    tracer_g[key] = ccl.NumberCountsTracer(                                          \n",
    "    cosmo,                                                              \n",
    "    False,                                                              \n",
    "    dndz=(z_lens[key], dndz_lens[key]),                                                     \n",
    "    bias=(z_lens[key], bias_g[key]),                                  \n",
    ")\n",
    "\n",
    "tracer_l = ccl.WeakLensingTracer(                                           \n",
    "    cosmo,                                                        \n",
    "    dndz=(z_source, dndz_source),                                              \n",
    "    n_samples=len(dndz_source),                                           \n",
    ")"
   ]
  },
  {
   "cell_type": "code",
   "execution_count": 408,
   "id": "fff54898-3578-4a7e-8c6c-2d6bba8aef37",
   "metadata": {},
   "outputs": [],
   "source": [
    "# Pre-compute 3D matter power spectrum\n",
    "log10k_min = -4\n",
    "log10k_max = 2\n",
    "nk_per_decade = 20\n",
    "\n",
    "ptt_g = pt.PTNumberCountsTracer(b1=bias_1)                                  \n",
    "                                                                                \n",
    "# Dark matter                                                               \n",
    "ptt_m = pt.PTMatterTracer()                                                 \n",
    "                                                                                \n",
    "# Power spectrum                                        \n",
    "ptc = pt.PTCalculator(                                                      \n",
    "    with_NC=True,                                                           \n",
    "    with_IA=False,                                                          \n",
    "    log10k_min=log10k_min,                                                  \n",
    "    log10k_max=log10k_max,                                                  \n",
    "    nk_per_decade=nk_per_decade,                                            \n",
    ")                                                                           \n",
    "                                                                                \n",
    "# 3D galaxy - dark-matter cross power spectrum                              \n",
    "pk_gm = pt.get_pt_pk2d(cosmo, ptt_g, tracer2=ptt_m, ptc=ptc)"
   ]
  },
  {
   "cell_type": "code",
   "execution_count": 409,
   "id": "b58a7eca-4272-4a9a-84f6-5e96af485fcc",
   "metadata": {},
   "outputs": [],
   "source": [
    "# Angular power spectrum\n",
    "ell_min = 2\n",
    "ell_max = 50_000\n",
    "ell = np.arange(ell_min, ell_max)\n",
    "\n",
    "cls_gG = {}\n",
    "\n",
    "for key in z_min:\n",
    "    cls_gG[key] = ccl.angular_cl(                                                    \n",
    "        cosmo,                                                                  \n",
    "        tracer_g[key],                                                               \n",
    "        tracer_l,                                                     \n",
    "        ell,\n",
    "        p_of_k_a=pk_gm,\n",
    "        limber_integration_method='qag_quad',\n",
    "    )"
   ]
  },
  {
   "cell_type": "code",
   "execution_count": 410,
   "id": "c07087ba-20e8-4e2a-95b0-4954eee21a12",
   "metadata": {},
   "outputs": [],
   "source": [
    "# Tangential shear\n",
    "\n",
    "# Angular scales in arc minutes\n",
    "th_min_amin = 0.15\n",
    "th_max_amin = 150\n",
    "n_th = 1000\n",
    "\n",
    "theta_amin = np.logspace(np.log10(th_min_amin), np.log10(th_max_amin), num=n_th)\n",
    "theta_deg = theta_amin / 60\n",
    "\n",
    "gt = {}\n",
    "\n",
    "for key in z_min:\n",
    "    gt[key] = ccl.correlation(                                                       \n",
    "        cosmo,                                                                  \n",
    "        ell,                                                                    \n",
    "        cls_gG[key],                                                                 \n",
    "        theta_deg,                                                              \n",
    "        type='NG',                                                              \n",
    "        method='FFTlog',          \n",
    "    )          "
   ]
  },
  {
   "cell_type": "code",
   "execution_count": 411,
   "id": "ea46cbc0-afab-4dbf-87a8-a0906fd5da64",
   "metadata": {},
   "outputs": [
    {
     "data": {
      "image/png": "[encoded data removed]",
      "text/plain": [
       "<Figure size 640x480 with 1 Axes>"
      ]
     },
     "metadata": {},
     "output_type": "display_data"
    }
   ],
   "source": [
    "for key in z_min:\n",
    "    plt.loglog(theta_amin, gt[key], linestyle=linestyle[key], label=key)\n",
    "plt.legend()\n",
    "plt.xlabel(r'$\\theta$ [arcmin]')\n",
    "_ = plt.ylabel(r'$\\gamma_{\\rm t}(\\theta)$')"
   ]
  },
  {
   "cell_type": "code",
   "execution_count": null,
   "id": "0aacb95d-20a6-4138-9384-2ca5445c6111",
   "metadata": {},
   "outputs": [],
   "source": []
  },
  {
   "cell_type": "code",
   "execution_count": null,
   "id": "947a21e9-d0c9-4656-88af-8081d75f5a38",
   "metadata": {},
   "outputs": [],
   "source": []
  },
  {
   "cell_type": "code",
   "execution_count": null,
   "id": "c66426e9-0090-4e24-bb2a-ef2832c3f77f",
   "metadata": {},
   "outputs": [],
   "source": []
  }
 ],
 "metadata": {
  "kernelspec": {
   "display_name": "Python 3 (ipykernel)",
   "language": "python",
   "name": "python3"
  },
  "language_info": {
   "codemirror_mode": {
    "name": "ipython",
    "version": 3
   },
   "file_extension": ".py",
   "mimetype": "text/x-python",
   "name": "python",
   "nbconvert_exporter": "python",
   "pygments_lexer": "ipython3",
   "version": "3.10.0"
  }
 },
 "nbformat": 4,
 "nbformat_minor": 5
}
